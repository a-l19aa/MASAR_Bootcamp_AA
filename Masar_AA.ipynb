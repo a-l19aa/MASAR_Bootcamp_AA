{
  "nbformat": 4,
  "nbformat_minor": 0,
  "metadata": {
    "colab": {
      "provenance": [],
      "toc_visible": true,
      "include_colab_link": true
    },
    "kernelspec": {
      "name": "python3",
      "display_name": "Python 3"
    },
    "language_info": {
      "name": "python"
    }
  },
  "cells": [
    {
      "cell_type": "markdown",
      "metadata": {
        "id": "view-in-github",
        "colab_type": "text"
      },
      "source": [
        "<a href=\"https://colab.research.google.com/github/a-l19aa/MASAR_Bootcamp_AA/blob/main/Masar_AA.ipynb\" target=\"_parent\"><img src=\"https://colab.research.google.com/assets/colab-badge.svg\" alt=\"Open In Colab\"/></a>"
      ]
    },
    {
      "cell_type": "markdown",
      "source": [
        "# First code and examples"
      ],
      "metadata": {
        "id": "-lfuiNwLbSUX"
      }
    },
    {
      "cell_type": "code",
      "execution_count": null,
      "metadata": {
        "colab": {
          "base_uri": "https://localhost:8080/"
        },
        "id": "LZLnUkvCavD9",
        "outputId": "83089a2d-8562-4e1c-ab19-5273a2c1509c"
      },
      "outputs": [
        {
          "output_type": "stream",
          "name": "stdout",
          "text": [
            "Hello Masar!\n"
          ]
        }
      ],
      "source": [
        "# first coding using colab\n",
        "\n",
        "print(\"Hello Masar!\")\n"
      ]
    },
    {
      "cell_type": "markdown",
      "source": [
        "## Simple Examples"
      ],
      "metadata": {
        "id": "rvcHtCW2bby_"
      }
    },
    {
      "cell_type": "code",
      "source": [
        "# Define a variable and print its value\n",
        "x = 5\n",
        "print(x)\n"
      ],
      "metadata": {
        "colab": {
          "base_uri": "https://localhost:8080/"
        },
        "id": "u7vWty1odRKu",
        "outputId": "3ebf5366-e510-443c-b814-1865a93a892e"
      },
      "execution_count": null,
      "outputs": [
        {
          "output_type": "stream",
          "name": "stdout",
          "text": [
            "5\n"
          ]
        }
      ]
    },
    {
      "cell_type": "code",
      "source": [
        "# Perform a simple calculation and print the result\n",
        "y = x + 3\n",
        "print(y)"
      ],
      "metadata": {
        "colab": {
          "base_uri": "https://localhost:8080/"
        },
        "id": "GlsFpzYpdUok",
        "outputId": "2234f2b4-e42a-4dd5-8e53-b43e5d5765c6"
      },
      "execution_count": null,
      "outputs": [
        {
          "output_type": "stream",
          "name": "stdout",
          "text": [
            "8\n"
          ]
        }
      ]
    },
    {
      "cell_type": "markdown",
      "source": [
        "# Print a simple message"
      ],
      "metadata": {
        "id": "jZDXnrWjdewD"
      }
    },
    {
      "cell_type": "code",
      "source": [
        "# Print a simple message\n",
        "print(\"\")"
      ],
      "metadata": {
        "id": "3i-IJBZobjzF",
        "colab": {
          "base_uri": "https://localhost:8080/"
        },
        "outputId": "a4541553-3de2-4d4e-b892-12f2aaf912b6"
      },
      "execution_count": null,
      "outputs": [
        {
          "output_type": "stream",
          "name": "stdout",
          "text": [
            "\n"
          ]
        }
      ]
    }
  ]
}